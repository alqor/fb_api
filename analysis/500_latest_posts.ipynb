{
 "cells": [
  {
   "cell_type": "code",
   "execution_count": 1,
   "outputs": [],
   "source": [
    "import sys\n",
    "import os\n",
    "sys.path.append(os.path.dirname(os.getcwd()))"
   ],
   "metadata": {
    "collapsed": false,
    "pycharm": {
     "name": "#%%\n"
    }
   }
  },
  {
   "cell_type": "code",
   "execution_count": 16,
   "outputs": [],
   "source": [
    "import pandas as pd\n",
    "import numpy as np\n",
    "from posts.functions import *"
   ],
   "metadata": {
    "collapsed": false,
    "pycharm": {
     "name": "#%%\n"
    }
   }
  },
  {
   "cell_type": "code",
   "execution_count": 3,
   "outputs": [],
   "source": [
    "posts = pd.read_excel('500_posts.xlsx') # the only way I found to get up to 500 post_ids for specific time range is through web interface"
   ],
   "metadata": {
    "collapsed": false,
    "pycharm": {
     "name": "#%%\n"
    }
   }
  },
  {
   "cell_type": "code",
   "execution_count": 4,
   "outputs": [],
   "source": [
    "gen_df = pd.DataFrame()\n",
    "met_df = pd.DataFrame()"
   ],
   "metadata": {
    "collapsed": false,
    "pycharm": {
     "name": "#%%\n"
    }
   }
  },
  {
   "cell_type": "code",
   "execution_count": 20,
   "outputs": [],
   "source": [
    "for post_id in posts.post_id.tolist()[:100]:\n",
    "    gen_data = get_post_general_data(post_id)\n",
    "    met_data = get_post_metrics_data(post_id)\n",
    "\n",
    "    gen_df = gen_df.append(gen_data, ignore_index=True)\n",
    "    met_df = met_df.append(met_data, ignore_index=True)"
   ],
   "metadata": {
    "collapsed": false,
    "pycharm": {
     "name": "#%%\n"
    }
   }
  },
  {
   "cell_type": "code",
   "execution_count": 21,
   "outputs": [],
   "source": [
    "total_df = gen_df.merge(met_df)"
   ],
   "metadata": {
    "collapsed": false,
    "pycharm": {
     "name": "#%%\n"
    }
   }
  },
  {
   "cell_type": "code",
   "execution_count": 22,
   "outputs": [],
   "source": [
    "total_df.to_feather('med_500_posts_data')"
   ],
   "metadata": {
    "collapsed": false,
    "pycharm": {
     "name": "#%%\n"
    }
   }
  },
  {
   "cell_type": "code",
   "execution_count": 23,
   "outputs": [],
   "source": [
    "# now let's clean it a bit"
   ],
   "metadata": {
    "collapsed": false,
    "pycharm": {
     "name": "#%%\n"
    }
   }
  },
  {
   "cell_type": "code",
   "execution_count": 24,
   "outputs": [],
   "source": [
    "total_df['created_time'] = pd.to_datetime(total_df['created_time'])\n",
    "total_df['extracted_time'] = pd.to_datetime(total_df['extracted_time'])"
   ],
   "metadata": {
    "collapsed": false,
    "pycharm": {
     "name": "#%%\n"
    }
   }
  },
  {
   "cell_type": "code",
   "execution_count": 25,
   "outputs": [
    {
     "data": {
      "text/plain": "post_id                                        object\ncreated_time                      datetime64[ns, UTC]\nmessage                                        object\nmedia_type                                     object\noriginal_url                                   object\npost_url                                       object\nextracted_time                    datetime64[ns, UTC]\npost_impressions                              float64\npost_impressions_paid                         float64\npost_clicks_other                             float64\npost_clicks_link                              float64\npost_reactions_like                           float64\npost_reactions_love                           float64\npost_reactions_haha                           float64\npost_reactions_sorry                          float64\npost_reactions_wow                            float64\npost_reactions_anger                          float64\npost_neg_fb_hide_all                          float64\npost_neg_fb_hide_clicks                       float64\npost_neg_fb_report_spam_clicks                float64\npost_neg_fb_unlike_page_clicks                float64\ndtype: object"
     },
     "execution_count": 25,
     "metadata": {},
     "output_type": "execute_result"
    }
   ],
   "source": [
    "total_df.dtypes"
   ],
   "metadata": {
    "collapsed": false,
    "pycharm": {
     "name": "#%%\n"
    }
   }
  },
  {
   "cell_type": "code",
   "execution_count": 26,
   "outputs": [],
   "source": [
    "object_columns = [col for col in total_df.columns if total_df[col].dtype.kind in 'O'] # it's capital o - stands for Object\n",
    "# https://numpy.org/doc/stable/reference/generated/numpy.dtype.kind.html\n",
    "total_df[object_columns] = total_df[object_columns].apply(pd.to_numeric, errors='ignore')\n",
    "\n",
    "total_df.to_feather('med_500_posts_data')\n",
    "# check data - follow the fb link and compare numbers with its interface\n",
    "# total_df.sample(5)\n",
    "# everything is correct!"
   ],
   "metadata": {
    "collapsed": false,
    "pycharm": {
     "name": "#%%\n"
    }
   }
  },
  {
   "cell_type": "code",
   "execution_count": 27,
   "outputs": [
    {
     "name": "stdout",
     "output_type": "stream",
     "text": [
      "Posts were created from 2022-05-09 16:52:10+00:00 to 2022-05-11 10:30:14+00:00.\n",
      "The most early extraction time is 2022-05-23 10:04:01+00:00.\n",
      "So, all posts' metrics are collected at least after 288 hours.\n"
     ]
    }
   ],
   "source": [
    "#data overview\n",
    "print(f\"Posts were created from {total_df['created_time'].min()} to {total_df['created_time'].max()}.\")\n",
    "print(f\"The most early extraction time is {total_df['extracted_time'].min()}.\")\n",
    "print(f\"So, all posts' metrics are collected at least after {round((total_df['extracted_time'].min()- total_df['created_time'].max())/np.timedelta64(1, 'h'))} hours.\")"
   ],
   "metadata": {
    "collapsed": false,
    "pycharm": {
     "name": "#%%\n"
    }
   }
  },
  {
   "cell_type": "code",
   "execution_count": 28,
   "outputs": [],
   "source": [
    "# posts per day\n",
    "daily_posts = total_df.loc[:,['created_time', 'post_id']]\n",
    "daily_posts['dt'] = daily_posts['created_time'].dt.date"
   ],
   "metadata": {
    "collapsed": false,
    "pycharm": {
     "name": "#%%\n"
    }
   }
  },
  {
   "cell_type": "code",
   "execution_count": 29,
   "outputs": [
    {
     "data": {
      "text/plain": "dt\n2022-05-09     14\n2022-05-10     64\n2022-05-11    102\nName: post_id, dtype: int64"
     },
     "execution_count": 29,
     "metadata": {},
     "output_type": "execute_result"
    }
   ],
   "source": [
    "daily_posts.groupby('dt')['post_id'].count()"
   ],
   "metadata": {
    "collapsed": false,
    "pycharm": {
     "name": "#%%\n"
    }
   }
  },
  {
   "cell_type": "code",
   "execution_count": 30,
   "outputs": [],
   "source": [
    "# calculate rates\n",
    "click_rates_df = total_df[total_df['media_type']=='link'].loc[:, ['post_id', 'original_url','post_url', 'post_impressions', 'post_clicks_link']]"
   ],
   "metadata": {
    "collapsed": false,
    "pycharm": {
     "name": "#%%\n"
    }
   }
  },
  {
   "cell_type": "code",
   "execution_count": 31,
   "outputs": [],
   "source": [
    "click_rates_df['click_rate'] = round(100*click_rates_df['post_clicks_link']/click_rates_df['post_impressions'], 4)"
   ],
   "metadata": {
    "collapsed": false,
    "pycharm": {
     "name": "#%%\n"
    }
   }
  },
  {
   "cell_type": "code",
   "execution_count": 32,
   "outputs": [],
   "source": [
    "click_rates_df['click_rate_rank'] = click_rates_df['click_rate'].rank(method='max')\n",
    "click_rates_df['impressions_rank'] = click_rates_df['post_impressions'].rank(method='max')\n",
    "click_rates_df['post_clicks_link_rank'] = click_rates_df['post_clicks_link'].rank(method='max')"
   ],
   "metadata": {
    "collapsed": false,
    "pycharm": {
     "name": "#%%\n"
    }
   }
  },
  {
   "cell_type": "code",
   "execution_count": 33,
   "outputs": [],
   "source": [
    "antitop_20 = click_rates_df[(click_rates_df['click_rate_rank']<=20)|(click_rates_df['impressions_rank']<=20)|(click_rates_df['post_clicks_link_rank']<=20)]"
   ],
   "metadata": {
    "collapsed": false,
    "pycharm": {
     "name": "#%%\n"
    }
   }
  },
  {
   "cell_type": "code",
   "execution_count": null,
   "outputs": [],
   "source": [
    "antitop_20.to_excel('FB_anti_top.xlsx')"
   ],
   "metadata": {
    "collapsed": false,
    "pycharm": {
     "name": "#%%\n"
    }
   }
  },
  {
   "cell_type": "code",
   "execution_count": null,
   "outputs": [],
   "source": [],
   "metadata": {
    "collapsed": false,
    "pycharm": {
     "name": "#%%\n"
    }
   }
  }
 ],
 "metadata": {
  "kernelspec": {
   "display_name": "Python 3",
   "language": "python",
   "name": "python3"
  },
  "language_info": {
   "codemirror_mode": {
    "name": "ipython",
    "version": 2
   },
   "file_extension": ".py",
   "mimetype": "text/x-python",
   "name": "python",
   "nbconvert_exporter": "python",
   "pygments_lexer": "ipython2",
   "version": "2.7.6"
  }
 },
 "nbformat": 4,
 "nbformat_minor": 0
}